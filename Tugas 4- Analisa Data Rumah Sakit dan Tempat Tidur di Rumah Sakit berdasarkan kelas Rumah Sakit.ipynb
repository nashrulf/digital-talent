{
 "cells": [
  {
   "cell_type": "markdown",
   "metadata": {},
   "source": [
    "# Tugas 4 \n",
    "Analisa data Rumah Sakit dan ketersediaan tempat tidur di Rumah Sakit berdasarkan kelas Rumah Sakit\n",
    "\n"
   ]
  },
  {
   "cell_type": "markdown",
   "metadata": {},
   "source": [
    "# Deskripsi Data\n",
    "Data ini berisi mengenai jumlah rumah sakit dan ketersediaan tempat tidur di rumah sakit berdasarkan kelas rumah sakit per provinsi di seluruh Indonesia Tahun 2012\n",
    "\n",
    "Penjelasan mengenai Variabel pada Data ini:\n",
    "\n",
    "1. kode_provinsi: Kode Provinsi\n",
    "2. nama_provinsi: Nama Provinsi\n",
    "3. kelas_rumah_sakit: Kelas Rumah Sakit\n",
    "4. jumlah_rumah_sakit: Jumlah Rumah Sakit\n",
    "5. jumlah_tempat_tidur: Jumlah Tempat Tidur\n",
    "\n",
    "Sumber Data : https://data.go.id."
   ]
  },
  {
   "cell_type": "code",
   "execution_count": 90,
   "metadata": {},
   "outputs": [],
   "source": [
    "#Load Data\n",
    "import pandas as pd\n",
    "data_rs = pd.read_csv('processed-jumlah-rs-tempat-tidur-kelas-rs-per-2012.csv',delimiter=',',encoding= \"ISO-8859-1\")"
   ]
  },
  {
   "cell_type": "code",
   "execution_count": 91,
   "metadata": {
    "scrolled": true
   },
   "outputs": [
    {
     "data": {
      "text/html": [
       "<div>\n",
       "<style scoped>\n",
       "    .dataframe tbody tr th:only-of-type {\n",
       "        vertical-align: middle;\n",
       "    }\n",
       "\n",
       "    .dataframe tbody tr th {\n",
       "        vertical-align: top;\n",
       "    }\n",
       "\n",
       "    .dataframe thead th {\n",
       "        text-align: right;\n",
       "    }\n",
       "</style>\n",
       "<table border=\"1\" class=\"dataframe\">\n",
       "  <thead>\n",
       "    <tr style=\"text-align: right;\">\n",
       "      <th></th>\n",
       "      <th>kode_provinsi</th>\n",
       "      <th>nama_provinsi</th>\n",
       "      <th>kelas_rumah_sakit</th>\n",
       "      <th>jumlah_rumah_sakit</th>\n",
       "      <th>jumlah_tempat_tidur</th>\n",
       "    </tr>\n",
       "  </thead>\n",
       "  <tbody>\n",
       "    <tr>\n",
       "      <th>5</th>\n",
       "      <td>12</td>\n",
       "      <td>Prov. Sumatera Utara</td>\n",
       "      <td>Kelas A</td>\n",
       "      <td>3</td>\n",
       "      <td>875</td>\n",
       "    </tr>\n",
       "    <tr>\n",
       "      <th>158</th>\n",
       "      <td>91</td>\n",
       "      <td>Prov. Papua Barat</td>\n",
       "      <td>Kelas D</td>\n",
       "      <td>4</td>\n",
       "      <td>364</td>\n",
       "    </tr>\n",
       "    <tr>\n",
       "      <th>83</th>\n",
       "      <td>51</td>\n",
       "      <td>Prov. Bali</td>\n",
       "      <td>Kelas D</td>\n",
       "      <td>10</td>\n",
       "      <td>567</td>\n",
       "    </tr>\n",
       "    <tr>\n",
       "      <th>17</th>\n",
       "      <td>14</td>\n",
       "      <td>Prov. Riau</td>\n",
       "      <td>Kelas C</td>\n",
       "      <td>19</td>\n",
       "      <td>1859</td>\n",
       "    </tr>\n",
       "    <tr>\n",
       "      <th>49</th>\n",
       "      <td>21</td>\n",
       "      <td>Prov. Kepulauan Riau</td>\n",
       "      <td>Belum Ditetapkan Kelas</td>\n",
       "      <td>9</td>\n",
       "      <td>496</td>\n",
       "    </tr>\n",
       "  </tbody>\n",
       "</table>\n",
       "</div>"
      ],
      "text/plain": [
       "     kode_provinsi         nama_provinsi       kelas_rumah_sakit  \\\n",
       "5               12  Prov. Sumatera Utara                 Kelas A   \n",
       "158             91     Prov. Papua Barat                 Kelas D   \n",
       "83              51            Prov. Bali                 Kelas D   \n",
       "17              14            Prov. Riau                 Kelas C   \n",
       "49              21  Prov. Kepulauan Riau  Belum Ditetapkan Kelas   \n",
       "\n",
       "     jumlah_rumah_sakit  jumlah_tempat_tidur  \n",
       "5                     3                  875  \n",
       "158                   4                  364  \n",
       "83                   10                  567  \n",
       "17                   19                 1859  \n",
       "49                    9                  496  "
      ]
     },
     "execution_count": 91,
     "metadata": {},
     "output_type": "execute_result"
    }
   ],
   "source": [
    "#Menampilkan Data Sampling\n",
    "data_rs.dropna().sample(5)"
   ]
  },
  {
   "cell_type": "code",
   "execution_count": 92,
   "metadata": {},
   "outputs": [
    {
     "data": {
      "text/html": [
       "<div>\n",
       "<style scoped>\n",
       "    .dataframe tbody tr th:only-of-type {\n",
       "        vertical-align: middle;\n",
       "    }\n",
       "\n",
       "    .dataframe tbody tr th {\n",
       "        vertical-align: top;\n",
       "    }\n",
       "\n",
       "    .dataframe thead th {\n",
       "        text-align: right;\n",
       "    }\n",
       "</style>\n",
       "<table border=\"1\" class=\"dataframe\">\n",
       "  <thead>\n",
       "    <tr style=\"text-align: right;\">\n",
       "      <th></th>\n",
       "      <th>count</th>\n",
       "      <th>mean</th>\n",
       "      <th>std</th>\n",
       "      <th>min</th>\n",
       "      <th>25%</th>\n",
       "      <th>50%</th>\n",
       "      <th>75%</th>\n",
       "      <th>max</th>\n",
       "    </tr>\n",
       "    <tr>\n",
       "      <th>kelas_rumah_sakit</th>\n",
       "      <th></th>\n",
       "      <th></th>\n",
       "      <th></th>\n",
       "      <th></th>\n",
       "      <th></th>\n",
       "      <th></th>\n",
       "      <th></th>\n",
       "      <th></th>\n",
       "    </tr>\n",
       "  </thead>\n",
       "  <tbody>\n",
       "    <tr>\n",
       "      <th>Belum Ditetapkan Kelas</th>\n",
       "      <td>33.0</td>\n",
       "      <td>1519.303030</td>\n",
       "      <td>2288.660136</td>\n",
       "      <td>61.0</td>\n",
       "      <td>406.0</td>\n",
       "      <td>647.0</td>\n",
       "      <td>1130.0</td>\n",
       "      <td>8180.0</td>\n",
       "    </tr>\n",
       "    <tr>\n",
       "      <th>Kelas A</th>\n",
       "      <td>33.0</td>\n",
       "      <td>614.606061</td>\n",
       "      <td>1094.222839</td>\n",
       "      <td>0.0</td>\n",
       "      <td>0.0</td>\n",
       "      <td>60.0</td>\n",
       "      <td>875.0</td>\n",
       "      <td>3716.0</td>\n",
       "    </tr>\n",
       "    <tr>\n",
       "      <th>Kelas B</th>\n",
       "      <td>33.0</td>\n",
       "      <td>1918.090909</td>\n",
       "      <td>2608.803717</td>\n",
       "      <td>0.0</td>\n",
       "      <td>506.0</td>\n",
       "      <td>957.0</td>\n",
       "      <td>1691.0</td>\n",
       "      <td>9401.0</td>\n",
       "    </tr>\n",
       "    <tr>\n",
       "      <th>Kelas C</th>\n",
       "      <td>33.0</td>\n",
       "      <td>2208.484848</td>\n",
       "      <td>2656.404844</td>\n",
       "      <td>200.0</td>\n",
       "      <td>756.0</td>\n",
       "      <td>1233.0</td>\n",
       "      <td>2103.0</td>\n",
       "      <td>11104.0</td>\n",
       "    </tr>\n",
       "    <tr>\n",
       "      <th>Kelas D</th>\n",
       "      <td>33.0</td>\n",
       "      <td>752.606061</td>\n",
       "      <td>922.832797</td>\n",
       "      <td>90.0</td>\n",
       "      <td>336.0</td>\n",
       "      <td>421.0</td>\n",
       "      <td>653.0</td>\n",
       "      <td>4692.0</td>\n",
       "    </tr>\n",
       "  </tbody>\n",
       "</table>\n",
       "</div>"
      ],
      "text/plain": [
       "                        count         mean          std    min    25%     50%  \\\n",
       "kelas_rumah_sakit                                                               \n",
       "Belum Ditetapkan Kelas   33.0  1519.303030  2288.660136   61.0  406.0   647.0   \n",
       "Kelas A                  33.0   614.606061  1094.222839    0.0    0.0    60.0   \n",
       "Kelas B                  33.0  1918.090909  2608.803717    0.0  506.0   957.0   \n",
       "Kelas C                  33.0  2208.484848  2656.404844  200.0  756.0  1233.0   \n",
       "Kelas D                  33.0   752.606061   922.832797   90.0  336.0   421.0   \n",
       "\n",
       "                           75%      max  \n",
       "kelas_rumah_sakit                        \n",
       "Belum Ditetapkan Kelas  1130.0   8180.0  \n",
       "Kelas A                  875.0   3716.0  \n",
       "Kelas B                 1691.0   9401.0  \n",
       "Kelas C                 2103.0  11104.0  \n",
       "Kelas D                  653.0   4692.0  "
      ]
     },
     "execution_count": 92,
     "metadata": {},
     "output_type": "execute_result"
    }
   ],
   "source": [
    "#Statistik Data Ketersediaan Bed RS berdasarkan tipe RS/Kelas Rumah Sakit\n",
    "data_rs.groupby('kelas_rumah_sakit').describe()['jumlah_tempat_tidur']"
   ]
  },
  {
   "cell_type": "code",
   "execution_count": 93,
   "metadata": {
    "scrolled": true
   },
   "outputs": [
    {
     "data": {
      "text/plain": [
       "Text(0,0.5,'BED')"
      ]
     },
     "execution_count": 93,
     "metadata": {},
     "output_type": "execute_result"
    },
    {
     "data": {
      "image/png": "[encoded data removed]",
      "text/plain": [
       "<Figure size 720x432 with 1 Axes>"
      ]
     },
     "metadata": {
      "needs_background": "light"
     },
     "output_type": "display_data"
    }
   ],
   "source": [
    "#### rata rata untuk tiap provinsi\n",
    "import matplotlib.pyplot as plt\n",
    "\n",
    "plt.rcParams['figure.figsize'] =10,6\n",
    "ax = data_rs.groupby('nama_provinsi').mean()['jumlah_tempat_tidur']\n",
    "ax = ax.plot(kind='bar', title =\"Rata-Rata tiap Provinsi\", legend=True, fontsize=12)\n",
    "ax.set_xlabel(\"Provinsi\", fontsize=15)\n",
    "ax.set_ylabel(\"BED\", fontsize=15)"
   ]
  },
  {
   "cell_type": "markdown",
   "metadata": {},
   "source": [
    "# Narasi Analissi\n",
    "Dari data diatas diperoleh informasi bahwa jumlah ketersediaan bed rumah sakit se Indonesia paling tingg di Povinsi  Jawa Timur"
   ]
  },
  {
   "cell_type": "code",
   "execution_count": null,
   "metadata": {},
   "outputs": [],
   "source": []
  }
 ],
 "metadata": {
  "kernelspec": {
   "display_name": "Python 3",
   "language": "python",
   "name": "python3"
  },
  "language_info": {
   "codemirror_mode": {
    "name": "ipython",
    "version": 3
   },
   "file_extension": ".py",
   "mimetype": "text/x-python",
   "name": "python",
   "nbconvert_exporter": "python",
   "pygments_lexer": "ipython3",
   "version": "3.7.0"
  }
 },
 "nbformat": 4,
 "nbformat_minor": 2
}
