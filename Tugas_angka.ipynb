{
 "cells": [
  {
   "cell_type": "markdown",
   "metadata": {},
   "source": [
    "# TUGAS ANGKA\n",
    "Diberikan sekumpulan Nilai Random antara 0 sampai dengan 100 sebanyak 250 nilai. Buatlah program untuk melakukan hal berikut:\n",
    "1. Tampilkan Angka Ganjil dari ke 250 nilai tersebut\n",
    "2. Tampilkan berapa banyak yang mendapatkan nilai lebih dari 70\n",
    "3. Tampilkan standar deviasi dari sekumpulan nilai tersebut\n",
    "4. Tampilkan nilai maksimum dan minimum\n",
    "5. Tampilkan modus dari sekumpulan nilai tersebut"
   ]
  },
  {
   "cell_type": "code",
   "execution_count": 13,
   "metadata": {
    "scrolled": true
   },
   "outputs": [
    {
     "name": "stdout",
     "output_type": "stream",
     "text": [
      "[11, 38, 48, 30, 82, 79, 80, 99, 46, 79, 65, 80, 23, 83, 51, 88, 47, 37, 56, 3, 88, 66, 19, 85, 7, 83, 7, 41, 56, 79, 75, 6, 15, 34, 89, 10, 72, 9, 40, 5, 62, 20, 69, 83, 19, 76, 25, 7, 34, 93, 65, 59, 19, 47, 33, 79, 7, 88, 47, 96, 19, 57, 47, 76, 9, 44, 6, 65, 82, 85, 32, 23, 91, 61, 71, 58, 87, 57, 5, 6, 7, 5, 88, 25, 50, 88, 91, 97, 98, 8, 31, 5, 18, 11, 56, 66, 41, 26, 71, 86, 33, 67, 83, 33, 17, 78, 23, 85, 76, 30, 43, 36, 46, 84, 30, 88, 48, 20, 36, 83, 70, 94, 1, 61, 77, 73, 22, 65, 17, 32, 7, 75, 7, 90, 66, 59, 80, 87, 90, 5, 62, 20, 10, 18, 56, 37, 32, 25, 35, 66, 97, 27, 28, 34, 72, 11, 87, 97, 32, 29, 61, 31, 73, 98, 43, 40, 35, 53, 33, 35, 13, 36, 42, 87, 14, 6, 24, 18, 72, 72, 46, 26, 64, 33, 69, 83, 58, 33, 93, 60, 35, 37, 89, 75, 15, 91, 59, 61, 70, 3, 59, 44, 19, 70, 79, 33, 70, 98, 37, 12, 9, 7, 42, 58, 74, 19, 51, 27, 53, 25, 46, 53, 35, 64, 1, 23, 3, 25, 90, 2, 96, 53, 82, 98, 46, 83, 17, 69, 19, 68, 58, 38, 52, 82, 66, 98, 95, 33, 71, 58]\n"
     ]
    }
   ],
   "source": [
    "import random\n",
    "\n",
    "# GENERATE RANDOM\n",
    "nilaiTugas = []\n",
    "for i in range(250):\n",
    "    nilaiTugas.append(random.randrange(1,100,1))\n",
    "\n",
    "print(nilaiTugas)\n",
    "\n",
    "# TAMPILKAN:\n",
    "# ganjil\n",
    "# nilai > 70\n",
    "# standar deviasi\n",
    "# maksimum\n",
    "# minimum\n",
    "# modus"
   ]
  },
  {
   "cell_type": "code",
   "execution_count": 28,
   "metadata": {},
   "outputs": [
    {
     "name": "stdout",
     "output_type": "stream",
     "text": [
      "Angka Ganjil : \n",
      "[11, 79, 99, 79, 65, 23, 83, 51, 47, 37, 3, 19, 85, 7, 83, 7, 41, 79, 75, 15, 89, 9, 5, 69, 83, 19, 25, 7, 93, 65, 59, 19, 47, 33, 79, 7, 47, 19, 57, 47, 9, 65, 85, 23, 91, 61, 71, 87, 57, 5, 7, 5, 25, 91, 97, 31, 5, 11, 41, 71, 33, 67, 83, 33, 17, 23, 85, 43, 83, 1, 61, 77, 73, 65, 17, 7, 75, 7, 59, 87, 5, 37, 25, 35, 97, 27, 11, 87, 97, 29, 61, 31, 73, 43, 35, 53, 33, 35, 13, 87, 33, 69, 83, 33, 93, 35, 37, 89, 75, 15, 91, 59, 61, 3, 59, 19, 79, 33, 37, 9, 7, 19, 51, 27, 53, 25, 53, 35, 1, 23, 3, 25, 53, 83, 17, 69, 19, 95, 33, 71]\n"
     ]
    }
   ],
   "source": [
    "#Menampilkan Angka Ganjil\n",
    "ganjil = []\n",
    "\n",
    "for i in nilaiTugas:\n",
    "    if i % 2 != 0:\n",
    "        ganjil.append(i)\n",
    "        \n",
    "print(\"Angka Ganjil : \")\n",
    "print(ganjil)"
   ]
  },
  {
   "cell_type": "code",
   "execution_count": 20,
   "metadata": {},
   "outputs": [
    {
     "name": "stdout",
     "output_type": "stream",
     "text": [
      "nilai > 70 :  75\n"
     ]
    }
   ],
   "source": [
    "#Tampilkan nilai >= 70\n",
    "# moreThan70 = list(filter(lambda x: x > 70, nilaiTugas))\n",
    "moreThan70 = []\n",
    "\n",
    "for row in nilaiTugas:\n",
    "    if row > 70:\n",
    "        moreThan70.append(row)\n",
    "        \n",
    "print(\"nilai > 70 : \", len(moreThan70))"
   ]
  },
  {
   "cell_type": "code",
   "execution_count": 32,
   "metadata": {},
   "outputs": [
    {
     "name": "stdout",
     "output_type": "stream",
     "text": [
      "Max :  99\n"
     ]
    }
   ],
   "source": [
    "# Menampilkan nilai maksimum\n",
    "nilaiMax = 0\n",
    "for nimax in nilaiTugas:\n",
    "    if nimax > nilaiMax:\n",
    "        nilaiMax = nimax\n",
    "\n",
    "print(\"Max : \", nilaiMax)"
   ]
  },
  {
   "cell_type": "code",
   "execution_count": 33,
   "metadata": {},
   "outputs": [
    {
     "name": "stdout",
     "output_type": "stream",
     "text": [
      "Min :  1\n"
     ]
    }
   ],
   "source": [
    "# Menampilkan nilai minimum\n",
    "nilaiMin = 999\n",
    "for row in nilaiTugas:\n",
    "    if row < nilaiMin:\n",
    "        nilaiMin = row\n",
    "\n",
    "print(\"Min : \", nilaiMin)"
   ]
  },
  {
   "cell_type": "code",
   "execution_count": 35,
   "metadata": {},
   "outputs": [
    {
     "name": "stdout",
     "output_type": "stream",
     "text": [
      "Modus :  7, 33\n"
     ]
    }
   ],
   "source": [
    "# Menampilkan nilai modus\n",
    "modusList = {}\n",
    "for row in nilaiTugas:\n",
    "    if row in modusList:\n",
    "        modusList[row]+= 1\n",
    "    else:\n",
    "        modusList[row] = 1\n",
    "\n",
    "modusListSort = sorted(modusList.items(), key=lambda kv: kv[1], reverse=True)\n",
    "maxCount = modusListSort[0][1]\n",
    "modus = []\n",
    "\n",
    "for row in modusListSort:\n",
    "    if row[1] == maxCount:\n",
    "        modus.append(str(row[0]))\n",
    "    else:\n",
    "        break\n",
    "        \n",
    "print(\"Modus : \", ', '.join(modus))"
   ]
  },
  {
   "cell_type": "code",
   "execution_count": 36,
   "metadata": {},
   "outputs": [
    {
     "name": "stdout",
     "output_type": "stream",
     "text": [
      "Standar Deviasi :  28.754164776043687\n"
     ]
    }
   ],
   "source": [
    "import math\n",
    "# Menampilkan standar deviasi\n",
    "sumX1 = 0\n",
    "sumX1Kuadrat = 0\n",
    "for row in nilaiTugas:\n",
    "    sumX1+= row\n",
    "    sumX1Kuadrat+= (row**2)\n",
    "    \n",
    "standarDeviasi = math.sqrt(((len(nilaiTugas) * sumX1Kuadrat ) - (sumX1**2)) / (len(nilaiTugas) * (len(nilaiTugas) - 1)))\n",
    "print(\"Standar Deviasi : \", standarDeviasi)\n"
   ]
  },
  {
   "cell_type": "code",
   "execution_count": null,
   "metadata": {},
   "outputs": [],
   "source": []
  }
 ],
 "metadata": {
  "kernelspec": {
   "display_name": "Python 3",
   "language": "python",
   "name": "python3"
  },
  "language_info": {
   "codemirror_mode": {
    "name": "ipython",
    "version": 3
   },
   "file_extension": ".py",
   "mimetype": "text/x-python",
   "name": "python",
   "nbconvert_exporter": "python",
   "pygments_lexer": "ipython3",
   "version": "3.7.0"
  }
 },
 "nbformat": 4,
 "nbformat_minor": 2
}
